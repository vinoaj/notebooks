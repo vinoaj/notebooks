{
 "cells": [
  {
   "cell_type": "markdown",
   "metadata": {},
   "source": [
    "# Connecting iPython to BigQuery\n",
    "This notebook provides an example of how to connect to Google BigQuery and execute simple queries"
   ]
  },
  {
   "cell_type": "markdown",
   "metadata": {},
   "source": [
    "First install the necessary Python packages. For the purposes of this notebook we require the official [Google Cloud BigQuery library](https://googleapis.github.io/google-cloud-python/latest/bigquery/index.html) including `pandas` support"
   ]
  },
  {
   "cell_type": "code",
   "execution_count": null,
   "metadata": {
    "scrolled": true
   },
   "outputs": [],
   "source": [
    "! pip install --upgrade pip\n",
    "! pip install --upgrade google-cloud-bigquery[pandas]"
   ]
  },
  {
   "cell_type": "code",
   "execution_count": 2,
   "metadata": {},
   "outputs": [],
   "source": [
    "# Import all necessary modules\n",
    "from google.cloud import bigquery\n",
    "from google.cloud.bigquery import magics\n",
    "from google.oauth2 import service_account"
   ]
  },
  {
   "cell_type": "markdown",
   "metadata": {},
   "source": [
    "For authentication purposes, create a service account and ensure that the service account can access the BigQuery datasets that you will be querying. Download the service account's credentials, place them in the same directory as this notebook, and rename the json file to `credentials.json`"
   ]
  },
  {
   "cell_type": "code",
   "execution_count": 3,
   "metadata": {},
   "outputs": [],
   "source": [
    "# Set configuration options\n",
    "CREDENTIALS_PATH = 'credentials.json'"
   ]
  },
  {
   "cell_type": "markdown",
   "metadata": {},
   "source": [
    "The BigQuery Python client library provides a magic command that \n",
    "allows you to run queries with minimal code. Before you load the magic you will also need to provide your service account's authentication details"
   ]
  },
  {
   "cell_type": "code",
   "execution_count": null,
   "metadata": {},
   "outputs": [],
   "source": [
    "%env GOOGLE_APPLICATION_CREDENTIALS={CREDENTIALS_PATH}\n",
    "\n",
    "# Load the bigquery magic\n",
    "%load_ext google.cloud.bigquery"
   ]
  },
  {
   "cell_type": "markdown",
   "metadata": {},
   "source": [
    "Now let's run a simple query (accessing one of the public datasets). The output is a Pandas dataframe."
   ]
  },
  {
   "cell_type": "code",
   "execution_count": null,
   "metadata": {},
   "outputs": [],
   "source": [
    "%%bigquery\n",
    "SELECT\n",
    "    source_year AS year,\n",
    "    COUNT(is_male) AS birth_count\n",
    "FROM `bigquery-public-data.samples.natality`\n",
    "GROUP BY year\n",
    "ORDER BY year DESC\n",
    "LIMIT 15"
   ]
  },
  {
   "cell_type": "markdown",
   "metadata": {},
   "source": [
    "If you want to save the resulting dataframe so that you can manipulate it to your needs, add a variable name to the `%%bigquery` command"
   ]
  },
  {
   "cell_type": "code",
   "execution_count": null,
   "metadata": {},
   "outputs": [],
   "source": [
    "%%bigquery annual_birth_count\n",
    "SELECT\n",
    "    source_year AS year,\n",
    "    COUNT(is_male) AS birth_count\n",
    "FROM `bigquery-public-data.samples.natality`\n",
    "GROUP BY year\n",
    "ORDER BY year DESC\n",
    "LIMIT 15"
   ]
  },
  {
   "cell_type": "code",
   "execution_count": null,
   "metadata": {},
   "outputs": [],
   "source": [
    "# Utilise the dataframe variable\n",
    "annual_birth_count.shape()\n",
    "annual_birth_count"
   ]
  }
 ],
 "metadata": {
  "kernelspec": {
   "display_name": "Python 3",
   "language": "python",
   "name": "python3"
  },
  "language_info": {
   "codemirror_mode": {
    "name": "ipython",
    "version": 3
   },
   "file_extension": ".py",
   "mimetype": "text/x-python",
   "name": "python",
   "nbconvert_exporter": "python",
   "pygments_lexer": "ipython3",
   "version": "3.6.3"
  }
 },
 "nbformat": 4,
 "nbformat_minor": 2
}
